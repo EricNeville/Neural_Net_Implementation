{
 "cells": [
  {
   "cell_type": "code",
   "execution_count": 1,
   "metadata": {},
   "outputs": [],
   "source": [
    "from scipy.stats import uniform\n",
    "import numpy as np\n",
    "import pandas as pd\n",
    "import matplotlib.pyplot as plt\n",
    "import random\n",
    "from tqdm import tqdm"
   ]
  },
  {
   "cell_type": "code",
   "execution_count": 2,
   "metadata": {},
   "outputs": [],
   "source": [
    "'''\n",
    "Activation Functions\n",
    "'''\n",
    "\n",
    "class Sigmoid:\n",
    "    def evaluate(self, x):\n",
    "        return 1/(1+np.exp(-x))\n",
    "    \n",
    "    def gradient(self,x):\n",
    "        S = self.evaluate(x)\n",
    "        return S*(1-S)\n",
    "    \n",
    "class ReLU:\n",
    "    def evaluate(self, x):\n",
    "        return np.maximum(0,x)\n",
    "    \n",
    "    def gradient(self, x):\n",
    "        return x>= 0\n",
    "        \n",
    "class Softmax:\n",
    "    def evaluate(self, x):\n",
    "        x = x - np.max(x)\n",
    "        return np.exp(x)/sum(np.exp(x))\n",
    "    \n",
    "    def gradient(self,x):\n",
    "        n = len(x)\n",
    "        S = self.evaluate(x)\n",
    "        grad = np.zeros((n,n))\n",
    "        for i in range(n):\n",
    "            for j in range(i):\n",
    "                grad[i,j] = -S[j]*S[i]\n",
    "                grad[j,i] = grad[i,j]\n",
    "            grad[i,i] = S[i]*(1-S[i])\n",
    "        return grad\n",
    "    \n",
    "class NormalizedSoftmax:\n",
    "    def evaluate(self, x):\n",
    "        x = x/np.max(x)\n",
    "        return np.exp(x)/sum(np.exp(x))\n",
    "    \n",
    "    def gradient(self,x):\n",
    "        n = len(x)\n",
    "        S = self.evaluate(x)\n",
    "        grad = np.zeros((n,n))\n",
    "        for i in range(n):\n",
    "            for j in range(i):\n",
    "                grad[i,j] = -S[j]*S[i]\n",
    "                grad[j,i] = grad[i,j]\n",
    "            grad[i,i] = S[i]*(1-S[i])\n",
    "        return grad    \n",
    "    "
   ]
  },
  {
   "cell_type": "code",
   "execution_count": 3,
   "metadata": {},
   "outputs": [],
   "source": [
    "'''\n",
    "Loss Functions\n",
    "'''\n",
    "        \n",
    "class SingleCrossEntropy:\n",
    "    # Note: y needs to be encoded as classes 0,1,2,...\n",
    "    def evaluate(self, y_hat, y):\n",
    "        if y == 1:\n",
    "            return -np.log(y_hat)\n",
    "        else:\n",
    "            return -np.log(1-y_hat)\n",
    "    \n",
    "    def gradient(self, y_hat, y):\n",
    "        if y == 1:\n",
    "            return -1/y_hat\n",
    "        else:\n",
    "            return 1/(1-y_hat)\n",
    "    \n",
    "class MultiCrossEntropy:\n",
    "    # Note: y needs to be encoded as classes 0,1,2,...\n",
    "    def evaluate(self, y_hat, y):\n",
    "        return -np.log(y_hat[y])\n",
    "    \n",
    "    def gradient(self, y_hat, y):\n",
    "        grad = np.zeros(len(y_hat))\n",
    "        grad[y] = -1/y_hat[y]\n",
    "        return grad"
   ]
  },
  {
   "cell_type": "code",
   "execution_count": 4,
   "metadata": {},
   "outputs": [],
   "source": [
    "'''\n",
    "Optimisation Algorithms\n",
    "'''\n",
    "\n",
    "class SGD:\n",
    "    def __init__(self, loss, epochs = 1, rate = 0.1):\n",
    "        self.epochs = epochs\n",
    "        self.loss = loss\n",
    "        if not isinstance(rate, list):\n",
    "            self.rate = [rate]*self.epochs\n",
    "        else:\n",
    "            self.rate = rate\n",
    "        \n",
    "    def train(self, nn, X, Y):\n",
    "        ind = list(range(X.shape[0]))\n",
    "        for e in tqdm(range(self.epochs)):\n",
    "            random.shuffle(ind)\n",
    "            for i in ind:\n",
    "                nn.FwdProp(X[i])\n",
    "                nn.BackProp(Y[i], self.loss)\n",
    "                for j in range(nn.n_layers - 1):\n",
    "                    nn.layers[1+j].weights -= self.rate[e]*nn.delta_ws[j]\n",
    "                    nn.layers[1+j].bias -= self.rate[e]*nn.delta_bs[j]\n"
   ]
  },
  {
   "cell_type": "code",
   "execution_count": 5,
   "metadata": {},
   "outputs": [],
   "source": [
    "'''\n",
    "Layers\n",
    "\n",
    "TODO: Make no activation for input, Make convolutional layers\n",
    "'''\n",
    "class DenseLayer:\n",
    "    def __init__(self, activation, n_nodes, is_input = False):\n",
    "        self.activation = activation\n",
    "        self.n_nodes = n_nodes\n",
    "        self.is_input = is_input\n",
    "        \n",
    "    def FwdPropOutput(self, prev):\n",
    "        if not self.is_input:\n",
    "            self.z = np.matmul(self.weights, prev) + self.bias\n",
    "            self.a = self.activation.evaluate(self.z)\n",
    "        else:\n",
    "            self.a = prev\n",
    "        return self.a"
   ]
  },
  {
   "cell_type": "code",
   "execution_count": 10,
   "metadata": {},
   "outputs": [],
   "source": [
    "'''\n",
    "TODO: Fix predict, it currently needs to take in more than 1 input\n",
    "      Fix evaluate wrong shape\n",
    "      Include regularistion\n",
    "'''\n",
    "class Network:\n",
    "    def __init__(self, layers):\n",
    "        self.layers = layers\n",
    "        self.n_layers = len(self.layers)\n",
    "        for i in range(1,self.n_layers):\n",
    "            this_length = self.layers[i].n_nodes\n",
    "            prev_length = self.layers[i-1].n_nodes\n",
    "            self.layers[i].weights = np.random.normal(0.1,0.5, this_length*prev_length).reshape(this_length, prev_length)\n",
    "            self.layers[i].bias = np.random.normal(0.1,0.5,this_length)\n",
    "            \n",
    "    def FwdProp(self, x):\n",
    "        for layer in self.layers:\n",
    "            x = layer.FwdPropOutput(x)\n",
    "        return x\n",
    "    \n",
    "    def BackProp(self, y, loss):\n",
    "        deltas = [None]*(self.n_layers-1)\n",
    "        delta_ws = [None]*(self.n_layers-1)\n",
    "        delta_bs = [None]*(self.n_layers-1)\n",
    "\n",
    "        deltas[-1] = np.matmul(loss.gradient(self.layers[-1].a, y), self.layers[-1].activation.gradient(self.layers[-1].z))\n",
    "        delta_ws[-1] = np.matmul(deltas[-1].reshape(-1,1), self.layers[-2].a.reshape(1,-1))\n",
    "        delta_bs[-1] = deltas[-1]\n",
    "        \n",
    "        for i in range(2, self.n_layers):\n",
    "            deltas[-i] = self.layers[-i].activation.gradient(self.layers[-i].z)*np.matmul(deltas[1-i].reshape(1,-1), self.layers[1-i].weights)\n",
    "            delta_ws[-i] = np.matmul(deltas[-i].reshape(-1,1), self.layers[-i-1].a.reshape(1,-1))\n",
    "            delta_bs[-i] = deltas[-i].flatten()\n",
    "            \n",
    "        self.deltas = deltas\n",
    "        self.delta_ws = delta_ws\n",
    "        self.delta_bs = delta_bs\n",
    "        \n",
    "    def fit(self, X, Y, optimiser):\n",
    "        optimiser.train(self, X, Y)\n",
    "        \n",
    "    def evaluate(self, X, Y):\n",
    "        pred = np.array(self.predict(X)).flatten() ## FIX THIS\n",
    "        return sum(pred == Y)/len(Y)\n",
    "    \n",
    "    def evaluate_multi(self, X, Y):\n",
    "        pred = self.predict_multi(X)\n",
    "        return sum(pred == Y)/len(Y)\n",
    "    \n",
    "    def predict(self, X):\n",
    "        return [np.round(self.FwdProp(X[i]),0) for i in range(X.shape[0])]\n",
    "    \n",
    "    def predict_multi(self, X):\n",
    "        return [np.argmax(self.FwdProp(X[i])) for i in range(X.shape[0])]     "
   ]
  },
  {
   "cell_type": "markdown",
   "metadata": {},
   "source": [
    "# Test Problem 1: Simulated Lever Data\n",
    "\n",
    "We simulate the physical state of a lever (tilting to the left or right) given some left weight (lw) placed at a certain distance (ld) from the pivot and some right weight (rw) placed at a certain distance (rd) from the pivot. We will compare our NN implementation with a logistic regression as well as an identical architecture NN from tensorflow."
   ]
  },
  {
   "cell_type": "code",
   "execution_count": 11,
   "metadata": {},
   "outputs": [],
   "source": [
    "sft = Softmax()\n",
    "relu = ReLU()\n",
    "norm_sft = NormalizedSoftmax()\n",
    "sig = Sigmoid()"
   ]
  },
  {
   "cell_type": "code",
   "execution_count": 12,
   "metadata": {},
   "outputs": [],
   "source": [
    "n = 10000\n",
    "ntrain = 6000\n",
    "lw = uniform.rvs(0,1, size = 10000, random_state = 1)\n",
    "rw = uniform.rvs(0,1, size = 10000, random_state = 2)\n",
    "ld = uniform.rvs(0,1, size = 10000, random_state = 3)\n",
    "rd = uniform.rvs(0,1, size = 10000, random_state = 4)\n",
    "tilt = np.sign(rw*rd-lw*ld)\n",
    "\n",
    "X = pd.DataFrame(dict(zip([\"lw\",\"rw\",\"ld\",\"rd\",\"tilt\"],[lw,rw,ld,rd,tilt])))\n",
    "X['tilt'], _ = pd.factorize(X['tilt'])\n",
    "X_train = X.loc[:ntrain,X.columns[:-1]].values\n",
    "Y_train = X.loc[:ntrain,X.columns[-1]].values\n",
    "X_test = X.loc[ntrain+1:,X.columns[:-1]].values\n",
    "Y_test = X.loc[ntrain+1:,X.columns[-1]].values"
   ]
  },
  {
   "cell_type": "markdown",
   "metadata": {},
   "source": [
    "## Custom NN Implementation on Lever Data\n",
    "\n",
    "We try two networks. Firstly we use no hidden layer and compare with sklearn logistic regression. Then we use a hidden layer and compare with the same architecture in Tensorflow."
   ]
  },
  {
   "cell_type": "markdown",
   "metadata": {},
   "source": [
    "### Custom No Hidden Layer (Logistic Regression)\n",
    "Below we see with 50 epcochs we have about 91% accuracy on both train and test sets."
   ]
  },
  {
   "cell_type": "code",
   "execution_count": 13,
   "metadata": {},
   "outputs": [
    {
     "name": "stderr",
     "output_type": "stream",
     "text": [
      "100%|██████████████████████████████████████████████████████████████████████████████████| 50/50 [00:13<00:00,  3.79it/s]"
     ]
    },
    {
     "name": "stdout",
     "output_type": "stream",
     "text": [
      "Train Accuracy:  0.9080153307782036\n",
      "Test Accuracy:  0.9149787446861716\n"
     ]
    },
    {
     "name": "stderr",
     "output_type": "stream",
     "text": [
      "\n"
     ]
    }
   ],
   "source": [
    "l1 = DenseLayer(relu, 4, is_input = True)\n",
    "l2 = DenseLayer(sig, 1, is_input = False)\n",
    "nn = Network([l1,l2])\n",
    "l = SingleCrossEntropy()\n",
    "o = SGD(l, 50, 0.1)\n",
    "nn.fit(X_train,Y_train, o)\n",
    "print('Train Accuracy: ',nn.evaluate(X_train, Y_train))\n",
    "print('Test Accuracy: ',nn.evaluate(X_test, Y_test))"
   ]
  },
  {
   "cell_type": "markdown",
   "metadata": {},
   "source": [
    "### Sklearn Logistic Regression\n",
    "Here we get around 91% on train and test again. Our implementation has the same level of performance as this well established module."
   ]
  },
  {
   "cell_type": "code",
   "execution_count": 32,
   "metadata": {},
   "outputs": [
    {
     "name": "stdout",
     "output_type": "stream",
     "text": [
      "Train Acuuracy = 0.9085152474587569\n",
      "Test Accuracy = 0.9152288072018004\n"
     ]
    }
   ],
   "source": [
    "from sklearn.linear_model import LogisticRegression\n",
    "mod = LogisticRegression(C=np.inf)\n",
    "mod.fit(X_train,Y_train.flatten())\n",
    "print('Train Acuuracy =', mod.score(X_train, Y_train))\n",
    "print('Test Accuracy =', mod.score(X_test, Y_test))"
   ]
  },
  {
   "cell_type": "markdown",
   "metadata": {},
   "source": [
    "### Custom Shallow Network\n",
    "We use a 10 node hidden layer with relu activation and run 50 epochs again. Below we achieve 97% on both train and test."
   ]
  },
  {
   "cell_type": "code",
   "execution_count": 15,
   "metadata": {},
   "outputs": [
    {
     "name": "stderr",
     "output_type": "stream",
     "text": [
      "100%|██████████████████████████████████████████████████████████████████████████████████| 50/50 [00:21<00:00,  2.37it/s]\n"
     ]
    },
    {
     "name": "stdout",
     "output_type": "stream",
     "text": [
      "Train Accuracy:  0.9731711381436428\n",
      "Test Accuracy:  0.9662415603900976\n"
     ]
    }
   ],
   "source": [
    "'''\n",
    "TODO: Include runtime comparison\n",
    "'''\n",
    "\n",
    "l1 = DenseLayer(relu, 4, is_input = True)\n",
    "l2 = DenseLayer(relu, 10, is_input = False)\n",
    "l3 = DenseLayer(sig, 1, is_input = False)\n",
    "nn = Network([l1,l2,l3])\n",
    "l = SingleCrossEntropy()\n",
    "o = SGD(l, 50, 0.1)\n",
    "nn.fit(X_train,Y_train, o)\n",
    "print('Train Accuracy: ',nn.evaluate(X_train, Y_train))\n",
    "print('Test Accuracy: ',nn.evaluate(X_test, Y_test))"
   ]
  },
  {
   "cell_type": "markdown",
   "metadata": {},
   "source": [
    "### Tensorflow Shallow Network\n",
    "We use the same architecture as above built with keras sequential model. We run for 50 epochs again and get 91% accuracy on both train and test. This is significantly worse than the custom network approach. I'm not sure why this would be the case and intend to look into this further."
   ]
  },
  {
   "cell_type": "code",
   "execution_count": 16,
   "metadata": {},
   "outputs": [
    {
     "name": "stdout",
     "output_type": "stream",
     "text": [
      "Train Accuracy:  0.9086818695068359\n",
      "Test Accuracy:  0.914478600025177\n"
     ]
    }
   ],
   "source": [
    "'''\n",
    "TODO: Look into performance worse than my custom\n",
    "'''\n",
    "import tensorflow as tf\n",
    "l1 = tf.keras.Input(shape = (4,))\n",
    "l2 = tf.keras.layers.Dense(units = 10, activation = 'relu')\n",
    "l3 = tf.keras.layers.Dense(units = 1, activation = 'sigmoid')\n",
    "model = tf.keras.Sequential([l1,l2,l3])\n",
    "model.compile(optimizer = 'sgd',  loss=\"binary_crossentropy\", metrics=\"acc\")\n",
    "model.fit(X_train, Y_train, epochs = 50, verbose = 0)\n",
    "print('Train Accuracy: ',model.evaluate(X_train, Y_train, verbose = 0)[1])\n",
    "print('Test Accuracy: ',model.evaluate(X_test, Y_test, verbose = 0)[1])"
   ]
  },
  {
   "cell_type": "markdown",
   "metadata": {},
   "source": [
    "# Test Problem 2: MNIST Handwriting Classification\n",
    "\n",
    "Now we want to try a multiclass classification problem. We will take the well known example of the MNIST handwriting classification dataset. Here we classify images of handwritten digits 0 to 9. See example observation below.\n",
    "\n"
   ]
  },
  {
   "cell_type": "code",
   "execution_count": 55,
   "metadata": {},
   "outputs": [],
   "source": [
    "from tensorflow.keras.datasets import mnist\n",
    "(train_X, train_y), (test_X, test_y) = mnist.load_data()\n",
    "train_X = np.array([x.flatten() for x in train_X])[:10000]/255 # Take subset of training set for faster training\n",
    "test_X =  np.array([x.flatten() for x in test_X])[:2000]/255 # # Take subset of test set similarly\n",
    "train_y = train_y[:10000]\n",
    "test_y = test_y[:2000]"
   ]
  },
  {
   "cell_type": "code",
   "execution_count": 69,
   "metadata": {},
   "outputs": [
    {
     "data": {
      "image/png": "[encoded data removed]",
      "text/plain": [
       "<Figure size 720x720 with 18 Axes>"
      ]
     },
     "metadata": {
      "needs_background": "light"
     },
     "output_type": "display_data"
    }
   ],
   "source": [
    "from mpl_toolkits.axes_grid1 import ImageGrid\n",
    "\n",
    "fig = plt.figure(figsize=(10., 10.))\n",
    "grid = ImageGrid(fig, 111,  # similar to subplot(111)\n",
    "                 nrows_ncols=(3, 3),  # creates 2x2 grid of axes\n",
    "                 axes_pad=0.1,  # pad between axes in inch.\n",
    "                 )\n",
    "\n",
    "for i in range(len(grid)):\n",
    "    grid[i].imshow(train_X[i].reshape(28,28), cmap = 'gray')"
   ]
  },
  {
   "cell_type": "markdown",
   "metadata": {},
   "source": [
    "## Custom NN Implementation on MNIST Data\n",
    "We will compare a shallow network from the custom implementation and keras sequential again. Later I hope to include convolutional layers, so such a comparison will then be included here too."
   ]
  },
  {
   "cell_type": "markdown",
   "metadata": {},
   "source": [
    "### Custom Shallow Network\n",
    "We train for 10 epochs for the sake of train time. The performance does continue to improve for more epochs, so this is not max performance. With this amount of epochs we get 92% train and 85% test."
   ]
  },
  {
   "cell_type": "code",
   "execution_count": 18,
   "metadata": {},
   "outputs": [
    {
     "name": "stderr",
     "output_type": "stream",
     "text": [
      "100%|██████████████████████████████████████████████████████████████████████████████████| 10/10 [06:19<00:00, 37.99s/it]\n"
     ]
    }
   ],
   "source": [
    "'''\n",
    "TODO: Look into runtime, add regularistion\n",
    "'''\n",
    "l1 = DenseLayer(relu, 784, is_input = True)\n",
    "l2 = DenseLayer(relu, 256, is_input = False)\n",
    "l3 = DenseLayer(sft, 10, is_input = False)\n",
    "nn = Network([l1,l2,l3])\n",
    "l = MultiCrossEntropy()\n",
    "o = SGD(l, 10, 0.001)\n",
    "nn.fit(train_X,train_y,o)"
   ]
  },
  {
   "cell_type": "code",
   "execution_count": 21,
   "metadata": {},
   "outputs": [
    {
     "name": "stdout",
     "output_type": "stream",
     "text": [
      "Train Accuracy:  0.9198\n",
      "Test Accuracy:  0.8505\n"
     ]
    }
   ],
   "source": [
    "print('Train Accuracy: ', nn.evaluate_multi(train_X, train_y))\n",
    "print('Test Accuracy: ', nn.evaluate_multi(test_X, test_y))"
   ]
  },
  {
   "cell_type": "markdown",
   "metadata": {},
   "source": [
    "### Tensorflow Shallow Network\n",
    "With the same architecture and training epochs we get 92% train and 89% test. i.e. Roughly same train accuracy but a more noticeable difference in generalisation. Note also that training time is much faster in tensorflow (as expected). It will be interesting to compare for more epochs, as we are not at max performance here."
   ]
  },
  {
   "cell_type": "code",
   "execution_count": 38,
   "metadata": {},
   "outputs": [
    {
     "name": "stdout",
     "output_type": "stream",
     "text": [
      "Train Accuracy:  0.9247999787330627\n",
      "Test Accuracy:  0.8865000009536743\n"
     ]
    }
   ],
   "source": [
    "# labels need to be one hot encoded\n",
    "temp = np.zeros((train_y.size, train_y.max()+1))\n",
    "temp[np.arange(train_y.size),train_y] = 1\n",
    "train_y = temp\n",
    "\n",
    "temp = np.zeros((test_y.size, test_y.max()+1))\n",
    "temp[np.arange(test_y.size),test_y] = 1\n",
    "test_y = temp\n",
    "\n",
    "l1 = tf.keras.Input(shape = (784,))\n",
    "l2 = tf.keras.layers.Dense(units = 256, activation = 'relu')\n",
    "l3 = tf.keras.layers.Dense(units = 10, activation = 'softmax')\n",
    "model = tf.keras.Sequential([l1,l2,l3])\n",
    "model.compile(optimizer = 'sgd',  loss=\"categorical_crossentropy\", metrics=\"acc\")\n",
    "model.fit(train_X, train_y, epochs = 10, verbose = 0)\n",
    "print('Train Accuracy: ', model.evaluate(train_X, train_y, verbose = 0)[1])\n",
    "print('Test Accuracy: ', model.evaluate(test_X, test_y, verbose = 0)[1])"
   ]
  }
 ],
 "metadata": {
  "kernelspec": {
   "display_name": "Python 3",
   "language": "python",
   "name": "python3"
  },
  "language_info": {
   "codemirror_mode": {
    "name": "ipython",
    "version": 3
   },
   "file_extension": ".py",
   "mimetype": "text/x-python",
   "name": "python",
   "nbconvert_exporter": "python",
   "pygments_lexer": "ipython3",
   "version": "3.8.3"
  }
 },
 "nbformat": 4,
 "nbformat_minor": 4
}
