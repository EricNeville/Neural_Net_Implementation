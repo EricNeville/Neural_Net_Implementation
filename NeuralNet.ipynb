{
 "cells": [
  {
   "cell_type": "code",
   "execution_count": 120,
   "metadata": {},
   "outputs": [],
   "source": [
    "import numpy as np\n",
    "import matplotlib.pyplot as plt"
   ]
  },
  {
   "cell_type": "code",
   "execution_count": 121,
   "metadata": {},
   "outputs": [],
   "source": [
    "# Activation Functions\n",
    "\n",
    "class Sigmoid:\n",
    "    def evaluate(self, x):\n",
    "        return 1/(1+np.exp(-x))\n",
    "    \n",
    "    def gradient(self,x):\n",
    "        return np.exp(-x)/(1+np.exp(-x))**2\n",
    "    \n",
    "class ReLU:\n",
    "    def evaluate(self, x):\n",
    "        return np.maximum(0,x)\n",
    "    \n",
    "    def gradient(self, x):\n",
    "        if x >= 0:\n",
    "            return 1\n",
    "        else:\n",
    "            return 0\n",
    "        \n",
    "class Softmax:\n",
    "    def evaluate(self, x):\n",
    "        return np.exp(x)/sum(np.exp(x))\n",
    "    \n",
    "    def gradient(self,x):\n",
    "        n = len(x)\n",
    "        S = self.evaluate(x)\n",
    "        grad = np.zeros((n,n))\n",
    "        for i in range(n):\n",
    "            for j in range(i):\n",
    "                grad[i,j] = -S[j]*S[i]\n",
    "                grad[j,i] = grad[i,j]\n",
    "            grad[i,i] = S[i]*(1-S[1])\n",
    "        return grad\n",
    "    "
   ]
  },
  {
   "cell_type": "code",
   "execution_count": 122,
   "metadata": {},
   "outputs": [
    {
     "data": {
      "text/plain": [
       "array([[1., 0., 0.],\n",
       "       [0., 1., 0.],\n",
       "       [0., 0., 1.]])"
      ]
     },
     "execution_count": 122,
     "metadata": {},
     "output_type": "execute_result"
    }
   ],
   "source": [
    "np.eye(3)"
   ]
  },
  {
   "cell_type": "code",
   "execution_count": 123,
   "metadata": {},
   "outputs": [],
   "source": [
    "# Loss Functions \n",
    "        \n",
    "class CrossEntropy:\n",
    "    # Note: y needs to be encoded as classes 0,1,2,...\n",
    "    def evaluate(self, y_hat, y):\n",
    "        return np.log(y_hat[y])\n",
    "    \n",
    "    def gradient(self, y_hat, y):\n",
    "        grad = np.zeros(len(y_hat))\n",
    "        grad[y] = 1/np.log(y_hat[y])\n",
    "        return grad"
   ]
  },
  {
   "cell_type": "code",
   "execution_count": 124,
   "metadata": {},
   "outputs": [
    {
     "ename": "SyntaxError",
     "evalue": "invalid syntax (<ipython-input-124-710cf74a44b6>, line 4)",
     "output_type": "error",
     "traceback": [
      "\u001b[1;36m  File \u001b[1;32m\"<ipython-input-124-710cf74a44b6>\"\u001b[1;36m, line \u001b[1;32m4\u001b[0m\n\u001b[1;33m    def\u001b[0m\n\u001b[1;37m        ^\u001b[0m\n\u001b[1;31mSyntaxError\u001b[0m\u001b[1;31m:\u001b[0m invalid syntax\n"
     ]
    }
   ],
   "source": [
    "# Optimisation Methods\n",
    "\n",
    "class SGD:\n",
    "    def "
   ]
  },
  {
   "cell_type": "code",
   "execution_count": 126,
   "metadata": {},
   "outputs": [],
   "source": [
    "class DenseLayer:\n",
    "    \n",
    "    #TODO:\n",
    "    #Make no activation for input\n",
    "    #\n",
    "    def __init__(self, activation, n_nodes, is_input = False):\n",
    "        self.activation = activation\n",
    "        self.n_nodes = n_nodes\n",
    "        self.is_input = is_input\n",
    "        \n",
    "    def FwdPropOutput(self, prev):\n",
    "        if not self.is_input:\n",
    "            self.z = np.matmul(self.weights, prev) + self.bias\n",
    "            self.a = self.activation.evaluate(self.z)\n",
    "        else:\n",
    "            self.a = prev\n",
    "        return self.a"
   ]
  },
  {
   "cell_type": "code",
   "execution_count": 139,
   "metadata": {},
   "outputs": [],
   "source": [
    "class Network:\n",
    "    def __init__(self, layers):\n",
    "        self.layers = layers\n",
    "        self.n_layers = len(self.layers)\n",
    "        for i in range(1,self.n_layers):\n",
    "            this_length = self.layers[i].n_nodes\n",
    "            prev_length = self.layers[i-1].n_nodes\n",
    "            self.layers[i].weights = np.random.normal(0.5,1, this_length*prev_length).reshape(this_length, prev_length)\n",
    "            self.layers[i].bias = np.random.normal(0.5,1,1)\n",
    "            \n",
    "    def FwdProp(self, x):\n",
    "        for layer in self.layers:\n",
    "            x = layer.FwdPropOutput(x)\n",
    "        return x\n",
    "    \n",
    "    def BackProp(self, y, loss):\n",
    "        deltas = [None]*self.n_layers\n",
    "        delta_ws = [None]*self.n_layers\n",
    "        delta_bs = [None]*self.n_layers\n",
    "        \n",
    "        deltas[-1] = np.matmul(loss.gradient(self.layers[-1].a, y), self.layers[-1].activation.gradient(self.layers[-1].z))\n",
    "            \n",
    "        return deltas[-1]\n",
    "        \n",
    "        \n",
    "        "
   ]
  },
  {
   "cell_type": "code",
   "execution_count": 140,
   "metadata": {},
   "outputs": [],
   "source": [
    "act = Softmax()\n",
    "l1 = DenseLayer(act, 5, is_input = True)\n",
    "l2 = DenseLayer(act, 3, is_input = False)"
   ]
  },
  {
   "cell_type": "code",
   "execution_count": 141,
   "metadata": {},
   "outputs": [],
   "source": [
    "nn = Network([l1,l2])"
   ]
  },
  {
   "cell_type": "code",
   "execution_count": 142,
   "metadata": {},
   "outputs": [
    {
     "data": {
      "text/plain": [
       "array([4.15119034e-01, 5.84337390e-01, 5.43575889e-04])"
      ]
     },
     "execution_count": 142,
     "metadata": {},
     "output_type": "execute_result"
    }
   ],
   "source": [
    "imput = np.array([1,2,3,4,5])\n",
    "nn.FwdProp(imput)"
   ]
  },
  {
   "cell_type": "code",
   "execution_count": 143,
   "metadata": {},
   "outputs": [],
   "source": [
    "l = CrossEntropy()"
   ]
  },
  {
   "cell_type": "code",
   "execution_count": 144,
   "metadata": {},
   "outputs": [
    {
     "data": {
      "text/plain": [
       "array([-1.96259588e-01,  2.75901206e-01,  2.56655223e-04])"
      ]
     },
     "execution_count": 144,
     "metadata": {},
     "output_type": "execute_result"
    }
   ],
   "source": [
    "nn.BackProp(0, l)"
   ]
  },
  {
   "cell_type": "code",
   "execution_count": null,
   "metadata": {},
   "outputs": [],
   "source": []
  }
 ],
 "metadata": {
  "kernelspec": {
   "display_name": "Python 3",
   "language": "python",
   "name": "python3"
  },
  "language_info": {
   "codemirror_mode": {
    "name": "ipython",
    "version": 3
   },
   "file_extension": ".py",
   "mimetype": "text/x-python",
   "name": "python",
   "nbconvert_exporter": "python",
   "pygments_lexer": "ipython3",
   "version": "3.8.3"
  }
 },
 "nbformat": 4,
 "nbformat_minor": 4
}
